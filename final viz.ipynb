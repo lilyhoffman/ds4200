{
 "cells": [
  {
   "cell_type": "code",
   "execution_count": 1,
   "id": "c1efd2be-b721-4167-b421-686c8ecf4fe9",
   "metadata": {},
   "outputs": [],
   "source": [
    "import pandas as pd\n",
    "import matplotlib.pyplot as plt\n",
    "import plotly.express as px\n",
    "import plotly.graph_objects as go\n",
    "import altair as alt\n",
    "import json\n",
    "import requests\n",
    "import geopandas\n",
    "import panel as pn"
   ]
  },
  {
   "cell_type": "code",
   "execution_count": 28,
   "id": "ff4508f0-d3ca-427d-8d2b-6c589bd589ce",
   "metadata": {},
   "outputs": [
    {
     "data": {
      "text/html": [
       "<div>\n",
       "<style scoped>\n",
       "    .dataframe tbody tr th:only-of-type {\n",
       "        vertical-align: middle;\n",
       "    }\n",
       "\n",
       "    .dataframe tbody tr th {\n",
       "        vertical-align: top;\n",
       "    }\n",
       "\n",
       "    .dataframe thead th {\n",
       "        text-align: right;\n",
       "    }\n",
       "</style>\n",
       "<table border=\"1\" class=\"dataframe\">\n",
       "  <thead>\n",
       "    <tr style=\"text-align: right;\">\n",
       "      <th></th>\n",
       "      <th>marital_status</th>\n",
       "      <th>application_mode</th>\n",
       "      <th>application_order</th>\n",
       "      <th>course</th>\n",
       "      <th>time</th>\n",
       "      <th>previous_qualification</th>\n",
       "      <th>name</th>\n",
       "      <th>mother's_qualification</th>\n",
       "      <th>father's_qualification</th>\n",
       "      <th>mother's_occupation</th>\n",
       "      <th>...</th>\n",
       "      <th>debtor</th>\n",
       "      <th>tuition_fees_up_to_date</th>\n",
       "      <th>gender</th>\n",
       "      <th>scholarship_holder</th>\n",
       "      <th>age_at_enrollment</th>\n",
       "      <th>international</th>\n",
       "      <th>unemployment_rate</th>\n",
       "      <th>inflation_rate</th>\n",
       "      <th>gdp</th>\n",
       "      <th>output</th>\n",
       "    </tr>\n",
       "  </thead>\n",
       "  <tbody>\n",
       "    <tr>\n",
       "      <th>0</th>\n",
       "      <td>single</td>\n",
       "      <td>2nd phase - general contingent</td>\n",
       "      <td>5</td>\n",
       "      <td>Animation and Multimedia Design</td>\n",
       "      <td>daytime</td>\n",
       "      <td>Secondary education</td>\n",
       "      <td>Portugal</td>\n",
       "      <td>NaN</td>\n",
       "      <td>11th Year of Schooling - Not Completed</td>\n",
       "      <td>Farmers and Skilled Workers in Agriculture, Fi...</td>\n",
       "      <td>...</td>\n",
       "      <td>0</td>\n",
       "      <td>1</td>\n",
       "      <td>1</td>\n",
       "      <td>0</td>\n",
       "      <td>20</td>\n",
       "      <td>0</td>\n",
       "      <td>10.8</td>\n",
       "      <td>1.4</td>\n",
       "      <td>1.74</td>\n",
       "      <td>Dropout</td>\n",
       "    </tr>\n",
       "    <tr>\n",
       "      <th>1</th>\n",
       "      <td>single</td>\n",
       "      <td>International student (bachelor)</td>\n",
       "      <td>1</td>\n",
       "      <td>Tourism</td>\n",
       "      <td>daytime</td>\n",
       "      <td>Secondary education</td>\n",
       "      <td>Portugal</td>\n",
       "      <td>Secondary Education - 12th Year of Schooling o...</td>\n",
       "      <td>Higher Education - Degree</td>\n",
       "      <td>Administrative staff</td>\n",
       "      <td>...</td>\n",
       "      <td>0</td>\n",
       "      <td>0</td>\n",
       "      <td>1</td>\n",
       "      <td>0</td>\n",
       "      <td>19</td>\n",
       "      <td>0</td>\n",
       "      <td>13.9</td>\n",
       "      <td>-0.3</td>\n",
       "      <td>0.79</td>\n",
       "      <td>Graduate</td>\n",
       "    </tr>\n",
       "    <tr>\n",
       "      <th>2</th>\n",
       "      <td>single</td>\n",
       "      <td>1st phase - general contingent</td>\n",
       "      <td>5</td>\n",
       "      <td>Communication Design</td>\n",
       "      <td>daytime</td>\n",
       "      <td>Secondary education</td>\n",
       "      <td>Portugal</td>\n",
       "      <td>Technical-professional course</td>\n",
       "      <td>2nd cycle of the general high school course</td>\n",
       "      <td>Armed Forces Professions</td>\n",
       "      <td>...</td>\n",
       "      <td>0</td>\n",
       "      <td>0</td>\n",
       "      <td>1</td>\n",
       "      <td>0</td>\n",
       "      <td>19</td>\n",
       "      <td>0</td>\n",
       "      <td>10.8</td>\n",
       "      <td>1.4</td>\n",
       "      <td>1.74</td>\n",
       "      <td>Dropout</td>\n",
       "    </tr>\n",
       "    <tr>\n",
       "      <th>3</th>\n",
       "      <td>single</td>\n",
       "      <td>2nd phase - general contingent</td>\n",
       "      <td>2</td>\n",
       "      <td>Journalism and Communication</td>\n",
       "      <td>daytime</td>\n",
       "      <td>Secondary education</td>\n",
       "      <td>Portugal</td>\n",
       "      <td>NaN</td>\n",
       "      <td>2nd cycle of the general high school course</td>\n",
       "      <td>Farmers and Skilled Workers in Agriculture, Fi...</td>\n",
       "      <td>...</td>\n",
       "      <td>0</td>\n",
       "      <td>1</td>\n",
       "      <td>0</td>\n",
       "      <td>0</td>\n",
       "      <td>20</td>\n",
       "      <td>0</td>\n",
       "      <td>9.4</td>\n",
       "      <td>-0.8</td>\n",
       "      <td>-3.12</td>\n",
       "      <td>Graduate</td>\n",
       "    </tr>\n",
       "    <tr>\n",
       "      <th>4</th>\n",
       "      <td>married</td>\n",
       "      <td>Over 23 years old</td>\n",
       "      <td>1</td>\n",
       "      <td>Social Service (evening attendance)</td>\n",
       "      <td>evening</td>\n",
       "      <td>Secondary education</td>\n",
       "      <td>Portugal</td>\n",
       "      <td>Technical-professional course</td>\n",
       "      <td>NaN</td>\n",
       "      <td>Armed Forces Professions</td>\n",
       "      <td>...</td>\n",
       "      <td>0</td>\n",
       "      <td>1</td>\n",
       "      <td>0</td>\n",
       "      <td>0</td>\n",
       "      <td>45</td>\n",
       "      <td>0</td>\n",
       "      <td>13.9</td>\n",
       "      <td>-0.3</td>\n",
       "      <td>0.79</td>\n",
       "      <td>Graduate</td>\n",
       "    </tr>\n",
       "  </tbody>\n",
       "</table>\n",
       "<p>5 rows × 23 columns</p>\n",
       "</div>"
      ],
      "text/plain": [
       "  marital_status                  application_mode  application_order  \\\n",
       "0         single    2nd phase - general contingent                  5   \n",
       "1         single  International student (bachelor)                  1   \n",
       "2         single    1st phase - general contingent                  5   \n",
       "3         single    2nd phase - general contingent                  2   \n",
       "4        married                 Over 23 years old                  1   \n",
       "\n",
       "                                course     time previous_qualification  \\\n",
       "0      Animation and Multimedia Design  daytime    Secondary education   \n",
       "1                              Tourism  daytime    Secondary education   \n",
       "2                 Communication Design  daytime    Secondary education   \n",
       "3         Journalism and Communication  daytime    Secondary education   \n",
       "4  Social Service (evening attendance)  evening    Secondary education   \n",
       "\n",
       "       name                             mother's_qualification  \\\n",
       "0  Portugal                                                NaN   \n",
       "1  Portugal  Secondary Education - 12th Year of Schooling o...   \n",
       "2  Portugal                      Technical-professional course   \n",
       "3  Portugal                                                NaN   \n",
       "4  Portugal                      Technical-professional course   \n",
       "\n",
       "                        father's_qualification  \\\n",
       "0       11th Year of Schooling - Not Completed   \n",
       "1                    Higher Education - Degree   \n",
       "2  2nd cycle of the general high school course   \n",
       "3  2nd cycle of the general high school course   \n",
       "4                                          NaN   \n",
       "\n",
       "                                 mother's_occupation  ... debtor  \\\n",
       "0  Farmers and Skilled Workers in Agriculture, Fi...  ...      0   \n",
       "1                               Administrative staff  ...      0   \n",
       "2                           Armed Forces Professions  ...      0   \n",
       "3  Farmers and Skilled Workers in Agriculture, Fi...  ...      0   \n",
       "4                           Armed Forces Professions  ...      0   \n",
       "\n",
       "   tuition_fees_up_to_date  gender  scholarship_holder  age_at_enrollment  \\\n",
       "0                        1       1                   0                 20   \n",
       "1                        0       1                   0                 19   \n",
       "2                        0       1                   0                 19   \n",
       "3                        1       0                   0                 20   \n",
       "4                        1       0                   0                 45   \n",
       "\n",
       "   international  unemployment_rate  inflation_rate   gdp    output  \n",
       "0              0               10.8             1.4  1.74   Dropout  \n",
       "1              0               13.9            -0.3  0.79  Graduate  \n",
       "2              0               10.8             1.4  1.74   Dropout  \n",
       "3              0                9.4            -0.8 -3.12  Graduate  \n",
       "4              0               13.9            -0.3  0.79  Graduate  \n",
       "\n",
       "[5 rows x 23 columns]"
      ]
     },
     "execution_count": 28,
     "metadata": {},
     "output_type": "execute_result"
    }
   ],
   "source": [
    "df = pd.read_csv(\"final_data.csv\")\n",
    "df = df.rename(columns = {\"nationality\":\"name\"})\n",
    "df.head()"
   ]
  },
  {
   "cell_type": "code",
   "execution_count": 29,
   "id": "ebf6f075-9217-41c5-8b4b-aaf7cc2e2b0c",
   "metadata": {},
   "outputs": [
    {
     "data": {
      "text/html": [
       "<div>\n",
       "<style scoped>\n",
       "    .dataframe tbody tr th:only-of-type {\n",
       "        vertical-align: middle;\n",
       "    }\n",
       "\n",
       "    .dataframe tbody tr th {\n",
       "        vertical-align: top;\n",
       "    }\n",
       "\n",
       "    .dataframe thead th {\n",
       "        text-align: right;\n",
       "    }\n",
       "</style>\n",
       "<table border=\"1\" class=\"dataframe\">\n",
       "  <thead>\n",
       "    <tr style=\"text-align: right;\">\n",
       "      <th></th>\n",
       "      <th>marital_status</th>\n",
       "      <th>application_mode</th>\n",
       "      <th>application_order</th>\n",
       "      <th>course</th>\n",
       "      <th>time</th>\n",
       "      <th>previous_qualification</th>\n",
       "      <th>name</th>\n",
       "      <th>mother's_qualification</th>\n",
       "      <th>father's_qualification</th>\n",
       "      <th>mother's_occupation</th>\n",
       "      <th>...</th>\n",
       "      <th>debtor</th>\n",
       "      <th>tuition_fees_up_to_date</th>\n",
       "      <th>gender</th>\n",
       "      <th>scholarship_holder</th>\n",
       "      <th>age_at_enrollment</th>\n",
       "      <th>international</th>\n",
       "      <th>unemployment_rate</th>\n",
       "      <th>inflation_rate</th>\n",
       "      <th>gdp</th>\n",
       "      <th>output</th>\n",
       "    </tr>\n",
       "  </thead>\n",
       "  <tbody>\n",
       "    <tr>\n",
       "      <th>0</th>\n",
       "      <td>single</td>\n",
       "      <td>General</td>\n",
       "      <td>5</td>\n",
       "      <td>Humanities and Design</td>\n",
       "      <td>daytime</td>\n",
       "      <td>Secondary education</td>\n",
       "      <td>Portugal</td>\n",
       "      <td>NaN</td>\n",
       "      <td>11th Year of Schooling - Not Completed</td>\n",
       "      <td>Farmers and Skilled Workers in Agriculture, Fi...</td>\n",
       "      <td>...</td>\n",
       "      <td>0</td>\n",
       "      <td>1</td>\n",
       "      <td>1</td>\n",
       "      <td>0</td>\n",
       "      <td>20</td>\n",
       "      <td>0</td>\n",
       "      <td>10.8</td>\n",
       "      <td>1.4</td>\n",
       "      <td>1.74</td>\n",
       "      <td>Dropout</td>\n",
       "    </tr>\n",
       "    <tr>\n",
       "      <th>1</th>\n",
       "      <td>single</td>\n",
       "      <td>International</td>\n",
       "      <td>1</td>\n",
       "      <td>Humanities and Design</td>\n",
       "      <td>daytime</td>\n",
       "      <td>Secondary education</td>\n",
       "      <td>Portugal</td>\n",
       "      <td>Secondary Education - 12th Year of Schooling o...</td>\n",
       "      <td>Higher Education - Degree</td>\n",
       "      <td>Administrative staff</td>\n",
       "      <td>...</td>\n",
       "      <td>0</td>\n",
       "      <td>0</td>\n",
       "      <td>1</td>\n",
       "      <td>0</td>\n",
       "      <td>19</td>\n",
       "      <td>0</td>\n",
       "      <td>13.9</td>\n",
       "      <td>-0.3</td>\n",
       "      <td>0.79</td>\n",
       "      <td>Graduate</td>\n",
       "    </tr>\n",
       "    <tr>\n",
       "      <th>2</th>\n",
       "      <td>single</td>\n",
       "      <td>General</td>\n",
       "      <td>5</td>\n",
       "      <td>Humanities and Design</td>\n",
       "      <td>daytime</td>\n",
       "      <td>Secondary education</td>\n",
       "      <td>Portugal</td>\n",
       "      <td>Technical-professional course</td>\n",
       "      <td>2nd cycle of the general high school course</td>\n",
       "      <td>Armed Forces Professions</td>\n",
       "      <td>...</td>\n",
       "      <td>0</td>\n",
       "      <td>0</td>\n",
       "      <td>1</td>\n",
       "      <td>0</td>\n",
       "      <td>19</td>\n",
       "      <td>0</td>\n",
       "      <td>10.8</td>\n",
       "      <td>1.4</td>\n",
       "      <td>1.74</td>\n",
       "      <td>Dropout</td>\n",
       "    </tr>\n",
       "    <tr>\n",
       "      <th>3</th>\n",
       "      <td>single</td>\n",
       "      <td>General</td>\n",
       "      <td>2</td>\n",
       "      <td>Humanities and Design</td>\n",
       "      <td>daytime</td>\n",
       "      <td>Secondary education</td>\n",
       "      <td>Portugal</td>\n",
       "      <td>NaN</td>\n",
       "      <td>2nd cycle of the general high school course</td>\n",
       "      <td>Farmers and Skilled Workers in Agriculture, Fi...</td>\n",
       "      <td>...</td>\n",
       "      <td>0</td>\n",
       "      <td>1</td>\n",
       "      <td>0</td>\n",
       "      <td>0</td>\n",
       "      <td>20</td>\n",
       "      <td>0</td>\n",
       "      <td>9.4</td>\n",
       "      <td>-0.8</td>\n",
       "      <td>-3.12</td>\n",
       "      <td>Graduate</td>\n",
       "    </tr>\n",
       "    <tr>\n",
       "      <th>4</th>\n",
       "      <td>married</td>\n",
       "      <td>General</td>\n",
       "      <td>1</td>\n",
       "      <td>Humanities and Design</td>\n",
       "      <td>evening</td>\n",
       "      <td>Secondary education</td>\n",
       "      <td>Portugal</td>\n",
       "      <td>Technical-professional course</td>\n",
       "      <td>NaN</td>\n",
       "      <td>Armed Forces Professions</td>\n",
       "      <td>...</td>\n",
       "      <td>0</td>\n",
       "      <td>1</td>\n",
       "      <td>0</td>\n",
       "      <td>0</td>\n",
       "      <td>45</td>\n",
       "      <td>0</td>\n",
       "      <td>13.9</td>\n",
       "      <td>-0.3</td>\n",
       "      <td>0.79</td>\n",
       "      <td>Graduate</td>\n",
       "    </tr>\n",
       "    <tr>\n",
       "      <th>...</th>\n",
       "      <td>...</td>\n",
       "      <td>...</td>\n",
       "      <td>...</td>\n",
       "      <td>...</td>\n",
       "      <td>...</td>\n",
       "      <td>...</td>\n",
       "      <td>...</td>\n",
       "      <td>...</td>\n",
       "      <td>...</td>\n",
       "      <td>...</td>\n",
       "      <td>...</td>\n",
       "      <td>...</td>\n",
       "      <td>...</td>\n",
       "      <td>...</td>\n",
       "      <td>...</td>\n",
       "      <td>...</td>\n",
       "      <td>...</td>\n",
       "      <td>...</td>\n",
       "      <td>...</td>\n",
       "      <td>...</td>\n",
       "      <td>...</td>\n",
       "    </tr>\n",
       "    <tr>\n",
       "      <th>4419</th>\n",
       "      <td>single</td>\n",
       "      <td>General</td>\n",
       "      <td>6</td>\n",
       "      <td>Humanities and Design</td>\n",
       "      <td>daytime</td>\n",
       "      <td>Secondary education</td>\n",
       "      <td>Portugal</td>\n",
       "      <td>Secondary Education - 12th Year of Schooling o...</td>\n",
       "      <td>Secondary Education - 12th Year of Schooling o...</td>\n",
       "      <td>Farmers and Skilled Workers in Agriculture, Fi...</td>\n",
       "      <td>...</td>\n",
       "      <td>0</td>\n",
       "      <td>1</td>\n",
       "      <td>1</td>\n",
       "      <td>0</td>\n",
       "      <td>19</td>\n",
       "      <td>0</td>\n",
       "      <td>15.5</td>\n",
       "      <td>2.8</td>\n",
       "      <td>-4.06</td>\n",
       "      <td>Graduate</td>\n",
       "    </tr>\n",
       "    <tr>\n",
       "      <th>4420</th>\n",
       "      <td>single</td>\n",
       "      <td>General</td>\n",
       "      <td>2</td>\n",
       "      <td>Humanities and Design</td>\n",
       "      <td>daytime</td>\n",
       "      <td>Secondary education</td>\n",
       "      <td>Russia</td>\n",
       "      <td>Secondary Education - 12th Year of Schooling o...</td>\n",
       "      <td>Secondary Education - 12th Year of Schooling o...</td>\n",
       "      <td>Armed Forces Professions</td>\n",
       "      <td>...</td>\n",
       "      <td>1</td>\n",
       "      <td>0</td>\n",
       "      <td>0</td>\n",
       "      <td>0</td>\n",
       "      <td>18</td>\n",
       "      <td>1</td>\n",
       "      <td>11.1</td>\n",
       "      <td>0.6</td>\n",
       "      <td>2.02</td>\n",
       "      <td>Dropout</td>\n",
       "    </tr>\n",
       "    <tr>\n",
       "      <th>4421</th>\n",
       "      <td>single</td>\n",
       "      <td>General</td>\n",
       "      <td>1</td>\n",
       "      <td>Business</td>\n",
       "      <td>daytime</td>\n",
       "      <td>Secondary education</td>\n",
       "      <td>Portugal</td>\n",
       "      <td>Technical-professional course</td>\n",
       "      <td>2nd cycle of the general high school course</td>\n",
       "      <td>Armed Forces Professions</td>\n",
       "      <td>...</td>\n",
       "      <td>0</td>\n",
       "      <td>1</td>\n",
       "      <td>0</td>\n",
       "      <td>1</td>\n",
       "      <td>30</td>\n",
       "      <td>0</td>\n",
       "      <td>13.9</td>\n",
       "      <td>-0.3</td>\n",
       "      <td>0.79</td>\n",
       "      <td>Dropout</td>\n",
       "    </tr>\n",
       "    <tr>\n",
       "      <th>4422</th>\n",
       "      <td>single</td>\n",
       "      <td>General</td>\n",
       "      <td>1</td>\n",
       "      <td>Business</td>\n",
       "      <td>daytime</td>\n",
       "      <td>Secondary education</td>\n",
       "      <td>Portugal</td>\n",
       "      <td>Technical-professional course</td>\n",
       "      <td>2nd cycle of the general high school course</td>\n",
       "      <td>Installation and Machine Operators and Assembl...</td>\n",
       "      <td>...</td>\n",
       "      <td>0</td>\n",
       "      <td>1</td>\n",
       "      <td>0</td>\n",
       "      <td>1</td>\n",
       "      <td>20</td>\n",
       "      <td>0</td>\n",
       "      <td>9.4</td>\n",
       "      <td>-0.8</td>\n",
       "      <td>-3.12</td>\n",
       "      <td>Graduate</td>\n",
       "    </tr>\n",
       "    <tr>\n",
       "      <th>4423</th>\n",
       "      <td>single</td>\n",
       "      <td>General</td>\n",
       "      <td>1</td>\n",
       "      <td>Humanities and Design</td>\n",
       "      <td>daytime</td>\n",
       "      <td>Secondary education</td>\n",
       "      <td>Ghana</td>\n",
       "      <td>NaN</td>\n",
       "      <td>2nd cycle of the general high school course</td>\n",
       "      <td>Farmers and Skilled Workers in Agriculture, Fi...</td>\n",
       "      <td>...</td>\n",
       "      <td>0</td>\n",
       "      <td>1</td>\n",
       "      <td>0</td>\n",
       "      <td>0</td>\n",
       "      <td>22</td>\n",
       "      <td>1</td>\n",
       "      <td>12.7</td>\n",
       "      <td>3.7</td>\n",
       "      <td>-1.70</td>\n",
       "      <td>Graduate</td>\n",
       "    </tr>\n",
       "  </tbody>\n",
       "</table>\n",
       "<p>4424 rows × 23 columns</p>\n",
       "</div>"
      ],
      "text/plain": [
       "     marital_status application_mode  application_order  \\\n",
       "0            single          General                  5   \n",
       "1            single    International                  1   \n",
       "2            single          General                  5   \n",
       "3            single          General                  2   \n",
       "4           married          General                  1   \n",
       "...             ...              ...                ...   \n",
       "4419         single          General                  6   \n",
       "4420         single          General                  2   \n",
       "4421         single          General                  1   \n",
       "4422         single          General                  1   \n",
       "4423         single          General                  1   \n",
       "\n",
       "                     course     time previous_qualification      name  \\\n",
       "0     Humanities and Design  daytime    Secondary education  Portugal   \n",
       "1     Humanities and Design  daytime    Secondary education  Portugal   \n",
       "2     Humanities and Design  daytime    Secondary education  Portugal   \n",
       "3     Humanities and Design  daytime    Secondary education  Portugal   \n",
       "4     Humanities and Design  evening    Secondary education  Portugal   \n",
       "...                     ...      ...                    ...       ...   \n",
       "4419  Humanities and Design  daytime    Secondary education  Portugal   \n",
       "4420  Humanities and Design  daytime    Secondary education    Russia   \n",
       "4421               Business  daytime    Secondary education  Portugal   \n",
       "4422               Business  daytime    Secondary education  Portugal   \n",
       "4423  Humanities and Design  daytime    Secondary education     Ghana   \n",
       "\n",
       "                                 mother's_qualification  \\\n",
       "0                                                   NaN   \n",
       "1     Secondary Education - 12th Year of Schooling o...   \n",
       "2                         Technical-professional course   \n",
       "3                                                   NaN   \n",
       "4                         Technical-professional course   \n",
       "...                                                 ...   \n",
       "4419  Secondary Education - 12th Year of Schooling o...   \n",
       "4420  Secondary Education - 12th Year of Schooling o...   \n",
       "4421                      Technical-professional course   \n",
       "4422                      Technical-professional course   \n",
       "4423                                                NaN   \n",
       "\n",
       "                                 father's_qualification  \\\n",
       "0                11th Year of Schooling - Not Completed   \n",
       "1                             Higher Education - Degree   \n",
       "2           2nd cycle of the general high school course   \n",
       "3           2nd cycle of the general high school course   \n",
       "4                                                   NaN   \n",
       "...                                                 ...   \n",
       "4419  Secondary Education - 12th Year of Schooling o...   \n",
       "4420  Secondary Education - 12th Year of Schooling o...   \n",
       "4421        2nd cycle of the general high school course   \n",
       "4422        2nd cycle of the general high school course   \n",
       "4423        2nd cycle of the general high school course   \n",
       "\n",
       "                                    mother's_occupation  ... debtor  \\\n",
       "0     Farmers and Skilled Workers in Agriculture, Fi...  ...      0   \n",
       "1                                  Administrative staff  ...      0   \n",
       "2                              Armed Forces Professions  ...      0   \n",
       "3     Farmers and Skilled Workers in Agriculture, Fi...  ...      0   \n",
       "4                              Armed Forces Professions  ...      0   \n",
       "...                                                 ...  ...    ...   \n",
       "4419  Farmers and Skilled Workers in Agriculture, Fi...  ...      0   \n",
       "4420                           Armed Forces Professions  ...      1   \n",
       "4421                           Armed Forces Professions  ...      0   \n",
       "4422  Installation and Machine Operators and Assembl...  ...      0   \n",
       "4423  Farmers and Skilled Workers in Agriculture, Fi...  ...      0   \n",
       "\n",
       "      tuition_fees_up_to_date  gender  scholarship_holder  age_at_enrollment  \\\n",
       "0                           1       1                   0                 20   \n",
       "1                           0       1                   0                 19   \n",
       "2                           0       1                   0                 19   \n",
       "3                           1       0                   0                 20   \n",
       "4                           1       0                   0                 45   \n",
       "...                       ...     ...                 ...                ...   \n",
       "4419                        1       1                   0                 19   \n",
       "4420                        0       0                   0                 18   \n",
       "4421                        1       0                   1                 30   \n",
       "4422                        1       0                   1                 20   \n",
       "4423                        1       0                   0                 22   \n",
       "\n",
       "      international  unemployment_rate  inflation_rate   gdp    output  \n",
       "0                 0               10.8             1.4  1.74   Dropout  \n",
       "1                 0               13.9            -0.3  0.79  Graduate  \n",
       "2                 0               10.8             1.4  1.74   Dropout  \n",
       "3                 0                9.4            -0.8 -3.12  Graduate  \n",
       "4                 0               13.9            -0.3  0.79  Graduate  \n",
       "...             ...                ...             ...   ...       ...  \n",
       "4419              0               15.5             2.8 -4.06  Graduate  \n",
       "4420              1               11.1             0.6  2.02   Dropout  \n",
       "4421              0               13.9            -0.3  0.79   Dropout  \n",
       "4422              0                9.4            -0.8 -3.12  Graduate  \n",
       "4423              1               12.7             3.7 -1.70  Graduate  \n",
       "\n",
       "[4424 rows x 23 columns]"
      ]
     },
     "execution_count": 29,
     "metadata": {},
     "output_type": "execute_result"
    }
   ],
   "source": [
    "# Replace application modes\n",
    "for key, values in application_modes.items():\n",
    "    df['application_mode'] = df['application_mode'].replace(values, key)\n",
    "\n",
    "# Replace courses\n",
    "for key, values in courses.items():\n",
    "    df['course'] = df['course'].replace(values, key)\n",
    "\n",
    "df"
   ]
  },
  {
   "cell_type": "code",
   "execution_count": 30,
   "id": "ef97ebd7-db08-4cbb-b2f6-9bf5b9e8c743",
   "metadata": {},
   "outputs": [],
   "source": [
    "def code_mapping(df,lst_of_columns):\n",
    "    \"\"\"\n",
    "    Map labels in columns to integers\n",
    "    :param df: Dataframe\n",
    "    :param lst_of_columns: list of column names that we are working with\n",
    "    :return: Dataframe, labels for our columns\n",
    "    \"\"\"\n",
    "    # get list of distinct labels\n",
    "    labels = (list(set(list(df[lst_of_columns[0]])+list(df[lst_of_columns[1]]))))\n",
    "\n",
    "    # create a label-> code mapping\n",
    "    codes = range(len(labels))\n",
    "    lc_map = dict(zip(labels,codes))\n",
    "\n",
    "    # substitute codes for labels in the dataframe\n",
    "    df = df.replace({lst_of_columns[0]:lc_map,lst_of_columns[1]:lc_map})\n",
    "\n",
    "    return df,labels\n",
    "\n",
    "\n",
    "\n",
    "# TASK 2 and 4\n",
    "def grouping_df(df,lst_of_cols,threshold =20):\n",
    "    \"\"\"\n",
    "    Grouping the data by columns listed in the lst_of_cols\n",
    "    :param df: DataFrame\n",
    "    :param lst_of_cols: list of column names based on which our data has to be grouped\n",
    "    :param threshold: an int to filter out rows whose artist count is below the threshold.\n",
    "    :return: an aggregated dataframe containing number of artists in each category\n",
    "    \"\"\"\n",
    "    # Converts our simple dataframe to an aggregate dataframe and adds a 'count' column to\n",
    "    # store number of artists belonging to each grouped category\n",
    "    df_agg = df.groupby(by=lst_of_cols).size().reset_index(name='count')\n",
    "\n",
    "    # Filters out rows with low artist count based on our threshold\n",
    "    #df_agg = df_agg[df_agg['count'] >= threshold]\n",
    "\n",
    "    # Returns the aggregated dataframe\n",
    "    return df_agg\n",
    "\n",
    "def make_sankey(df, lst_of_columns, vals=None,grouping = \"no\",stacked = \"no\",threshold = 20,**kwargs):\n",
    "    \"\"\"\n",
    "\n",
    "    :param df: Dataframe\n",
    "    :param lst_of_columns: list of column names that we want to create our sankey with\n",
    "    :param vals: values of the connection between our columns\n",
    "    :param grouping: whether dataframe needs to be grouped or not. default value is no\n",
    "    :param stacked: whether dataframe needs to be stacked or not. default value is no\n",
    "    :parm threshold: used to filter out rows whose artist count is below some threshold\n",
    "    :param kwargs: any other parameters such as thickness, pad, color, etc.\n",
    "    :return: DataFrame and labels\n",
    "    \"\"\"\n",
    "    # doing required grouping if necessary\n",
    "    if grouping == \"yes\" and len(lst_of_columns) == 2:\n",
    "        df = grouping_df(df,lst_of_columns,threshold=threshold)\n",
    "\n",
    "    # stacking if required to build multi level sankey diagrams\n",
    "    if stacked == \"yes\" and len(lst_of_columns)>2:\n",
    "        # empty list to store bits of dataframes that are to be stacked together\n",
    "        parts_of_stack = []\n",
    "        # iterating over columns of dataframe to create bits of dataframes that are to be stacked\n",
    "        for i in list(range(len(lst_of_columns)-1)):\n",
    "            part_of_stack_df = grouping_df(df,lst_of_columns[i:i+2])\n",
    "            # renaming column names to make stacking easier\n",
    "            part_of_stack_df.columns = ['src', 'targ', 'values']\n",
    "            # adding bits of dataframe that will be stacked\n",
    "            parts_of_stack.append(part_of_stack_df)\n",
    "        # renaming column names to make labelling easier\n",
    "        lst_of_columns = ['src', 'targ', 'values']\n",
    "        # creating stacked dataframe\n",
    "        df = pd.concat(parts_of_stack, axis=0)\n",
    "        # defining which column name contains the vals\n",
    "        vals = \"values\"\n",
    "\n",
    "    if vals:\n",
    "        values = df[vals]\n",
    "    else:\n",
    "        values = [1] * len(df)\n",
    "   \n",
    "    # mapping labels to integers to draw sankey diagrams\n",
    "    df,labels = code_mapping(df,lst_of_columns)\n",
    "    # defining required dictionaries to make sankey\n",
    "    link = {'source':df[lst_of_columns[0]],'target':df[lst_of_columns[1]],'value':values}\n",
    "    node = {'label':labels}\n",
    "\n",
    "    # creating sankey diagram\n",
    "    sk = go.Sankey(link = link, node = node)\n",
    "    fig = go.Figure(sk)\n",
    "    # Add title and layout configurations\n",
    "    fig.update_layout(\n",
    "        title=dict(\n",
    "            text=\"Sankey Diagram with Pathways for Graduation\",\n",
    "            x=0.5,  # Center the title\n",
    "            font=dict(size=24, color=\"Black\")\n",
    "        ),\n",
    "        font=dict(size=12),\n",
    "        hovermode='x',\n",
    "        legend=dict(\n",
    "            title=\"Legend\",\n",
    "            font=dict(size=14),\n",
    "            orientation=\"h\",\n",
    "            x=0.5,\n",
    "            xanchor=\"center\"\n",
    "        )\n",
    "    )\n",
    "    fig.show()\n",
    "\n",
    "    return fig\n",
    "\n",
    "\n",
    "def get_data(df,selected_modes,selected_courses,selected_outputs):\n",
    "\n",
    "    filtered_df = df[\n",
    "        (df['application_mode'].isin(selected_modes))&\n",
    "        (df['course'].isin(selected_courses)) &\n",
    "        (df['output'].isin(selected_outputs))\n",
    "    ]\n",
    "    return filtered_df\n",
    "    \n",
    "def create_sankey(df,application_modes,courses,outputs,lst_of_cols,):\n",
    "    fig = make_sankey(get_data(df,application_modes,courses,outputs),lst_of_cols,stacked=\"yes\")\n",
    "    return fig\n",
    "\n",
    "def dct_to_lst(dct,keys):\n",
    "    lst = []\n",
    "    for key in keys:\n",
    "        for item in dct[key]:\n",
    "            lst.append(item)\n",
    "    return lst\n",
    "    "
   ]
  },
  {
   "cell_type": "code",
   "execution_count": 34,
   "id": "9391f90e-38aa-4e4b-ae87-199e20ea0462",
   "metadata": {},
   "outputs": [
    {
     "name": "stderr",
     "output_type": "stream",
     "text": [
      "/var/folders/pv/dgx586t95xn1cl6sps79kygh0000gn/T/ipykernel_2980/758411997.py:16: FutureWarning:\n",
      "\n",
      "Downcasting behavior in `replace` is deprecated and will be removed in a future version. To retain the old behavior, explicitly call `result.infer_objects(copy=False)`. To opt-in to the future behavior, set `pd.set_option('future.no_silent_downcasting', True)`\n",
      "\n"
     ]
    },
    {
     "data": {
      "application/vnd.plotly.v1+json": {
       "config": {
        "plotlyServerURL": "https://plot.ly"
       },
       "data": [
        {
         "link": {
          "source": [
           7,
           7,
           7,
           5,
           5,
           5,
           1,
           1,
           1,
           6,
           6,
           6,
           3,
           3,
           3,
           2,
           2,
           2
          ],
          "target": [
           6,
           3,
           2,
           6,
           3,
           2,
           6,
           3,
           2,
           8,
           4,
           0,
           8,
           4,
           0,
           8,
           4,
           0
          ],
          "value": [
           164,
           144,
           63,
           1506,
           1633,
           883,
           12,
           9,
           10,
           483,
           310,
           889,
           551,
           267,
           968,
           387,
           217,
           352
          ]
         },
         "node": {
          "label": [
           "Graduate",
           "International",
           "Science and Engineering",
           "Humanities and Design",
           "Enrolled",
           "General",
           "Business",
           "Change of Institution/Course",
           "Dropout"
          ]
         },
         "type": "sankey"
        }
       ],
       "layout": {
        "autosize": true,
        "font": {
         "size": 12
        },
        "hovermode": "x",
        "legend": {
         "font": {
          "size": 14
         },
         "orientation": "h",
         "title": {
          "text": "Legend"
         },
         "x": 0.5,
         "xanchor": "center"
        },
        "template": {
         "data": {
          "bar": [
           {
            "error_x": {
             "color": "#2a3f5f"
            },
            "error_y": {
             "color": "#2a3f5f"
            },
            "marker": {
             "line": {
              "color": "#E5ECF6",
              "width": 0.5
             },
             "pattern": {
              "fillmode": "overlay",
              "size": 10,
              "solidity": 0.2
             }
            },
            "type": "bar"
           }
          ],
          "barpolar": [
           {
            "marker": {
             "line": {
              "color": "#E5ECF6",
              "width": 0.5
             },
             "pattern": {
              "fillmode": "overlay",
              "size": 10,
              "solidity": 0.2
             }
            },
            "type": "barpolar"
           }
          ],
          "carpet": [
           {
            "aaxis": {
             "endlinecolor": "#2a3f5f",
             "gridcolor": "white",
             "linecolor": "white",
             "minorgridcolor": "white",
             "startlinecolor": "#2a3f5f"
            },
            "baxis": {
             "endlinecolor": "#2a3f5f",
             "gridcolor": "white",
             "linecolor": "white",
             "minorgridcolor": "white",
             "startlinecolor": "#2a3f5f"
            },
            "type": "carpet"
           }
          ],
          "choropleth": [
           {
            "colorbar": {
             "outlinewidth": 0,
             "ticks": ""
            },
            "type": "choropleth"
           }
          ],
          "contour": [
           {
            "colorbar": {
             "outlinewidth": 0,
             "ticks": ""
            },
            "colorscale": [
             [
              0,
              "#0d0887"
             ],
             [
              0.1111111111111111,
              "#46039f"
             ],
             [
              0.2222222222222222,
              "#7201a8"
             ],
             [
              0.3333333333333333,
              "#9c179e"
             ],
             [
              0.4444444444444444,
              "#bd3786"
             ],
             [
              0.5555555555555556,
              "#d8576b"
             ],
             [
              0.6666666666666666,
              "#ed7953"
             ],
             [
              0.7777777777777778,
              "#fb9f3a"
             ],
             [
              0.8888888888888888,
              "#fdca26"
             ],
             [
              1,
              "#f0f921"
             ]
            ],
            "type": "contour"
           }
          ],
          "contourcarpet": [
           {
            "colorbar": {
             "outlinewidth": 0,
             "ticks": ""
            },
            "type": "contourcarpet"
           }
          ],
          "heatmap": [
           {
            "colorbar": {
             "outlinewidth": 0,
             "ticks": ""
            },
            "colorscale": [
             [
              0,
              "#0d0887"
             ],
             [
              0.1111111111111111,
              "#46039f"
             ],
             [
              0.2222222222222222,
              "#7201a8"
             ],
             [
              0.3333333333333333,
              "#9c179e"
             ],
             [
              0.4444444444444444,
              "#bd3786"
             ],
             [
              0.5555555555555556,
              "#d8576b"
             ],
             [
              0.6666666666666666,
              "#ed7953"
             ],
             [
              0.7777777777777778,
              "#fb9f3a"
             ],
             [
              0.8888888888888888,
              "#fdca26"
             ],
             [
              1,
              "#f0f921"
             ]
            ],
            "type": "heatmap"
           }
          ],
          "heatmapgl": [
           {
            "colorbar": {
             "outlinewidth": 0,
             "ticks": ""
            },
            "colorscale": [
             [
              0,
              "#0d0887"
             ],
             [
              0.1111111111111111,
              "#46039f"
             ],
             [
              0.2222222222222222,
              "#7201a8"
             ],
             [
              0.3333333333333333,
              "#9c179e"
             ],
             [
              0.4444444444444444,
              "#bd3786"
             ],
             [
              0.5555555555555556,
              "#d8576b"
             ],
             [
              0.6666666666666666,
              "#ed7953"
             ],
             [
              0.7777777777777778,
              "#fb9f3a"
             ],
             [
              0.8888888888888888,
              "#fdca26"
             ],
             [
              1,
              "#f0f921"
             ]
            ],
            "type": "heatmapgl"
           }
          ],
          "histogram": [
           {
            "marker": {
             "pattern": {
              "fillmode": "overlay",
              "size": 10,
              "solidity": 0.2
             }
            },
            "type": "histogram"
           }
          ],
          "histogram2d": [
           {
            "colorbar": {
             "outlinewidth": 0,
             "ticks": ""
            },
            "colorscale": [
             [
              0,
              "#0d0887"
             ],
             [
              0.1111111111111111,
              "#46039f"
             ],
             [
              0.2222222222222222,
              "#7201a8"
             ],
             [
              0.3333333333333333,
              "#9c179e"
             ],
             [
              0.4444444444444444,
              "#bd3786"
             ],
             [
              0.5555555555555556,
              "#d8576b"
             ],
             [
              0.6666666666666666,
              "#ed7953"
             ],
             [
              0.7777777777777778,
              "#fb9f3a"
             ],
             [
              0.8888888888888888,
              "#fdca26"
             ],
             [
              1,
              "#f0f921"
             ]
            ],
            "type": "histogram2d"
           }
          ],
          "histogram2dcontour": [
           {
            "colorbar": {
             "outlinewidth": 0,
             "ticks": ""
            },
            "colorscale": [
             [
              0,
              "#0d0887"
             ],
             [
              0.1111111111111111,
              "#46039f"
             ],
             [
              0.2222222222222222,
              "#7201a8"
             ],
             [
              0.3333333333333333,
              "#9c179e"
             ],
             [
              0.4444444444444444,
              "#bd3786"
             ],
             [
              0.5555555555555556,
              "#d8576b"
             ],
             [
              0.6666666666666666,
              "#ed7953"
             ],
             [
              0.7777777777777778,
              "#fb9f3a"
             ],
             [
              0.8888888888888888,
              "#fdca26"
             ],
             [
              1,
              "#f0f921"
             ]
            ],
            "type": "histogram2dcontour"
           }
          ],
          "mesh3d": [
           {
            "colorbar": {
             "outlinewidth": 0,
             "ticks": ""
            },
            "type": "mesh3d"
           }
          ],
          "parcoords": [
           {
            "line": {
             "colorbar": {
              "outlinewidth": 0,
              "ticks": ""
             }
            },
            "type": "parcoords"
           }
          ],
          "pie": [
           {
            "automargin": true,
            "type": "pie"
           }
          ],
          "scatter": [
           {
            "fillpattern": {
             "fillmode": "overlay",
             "size": 10,
             "solidity": 0.2
            },
            "type": "scatter"
           }
          ],
          "scatter3d": [
           {
            "line": {
             "colorbar": {
              "outlinewidth": 0,
              "ticks": ""
             }
            },
            "marker": {
             "colorbar": {
              "outlinewidth": 0,
              "ticks": ""
             }
            },
            "type": "scatter3d"
           }
          ],
          "scattercarpet": [
           {
            "marker": {
             "colorbar": {
              "outlinewidth": 0,
              "ticks": ""
             }
            },
            "type": "scattercarpet"
           }
          ],
          "scattergeo": [
           {
            "marker": {
             "colorbar": {
              "outlinewidth": 0,
              "ticks": ""
             }
            },
            "type": "scattergeo"
           }
          ],
          "scattergl": [
           {
            "marker": {
             "colorbar": {
              "outlinewidth": 0,
              "ticks": ""
             }
            },
            "type": "scattergl"
           }
          ],
          "scattermapbox": [
           {
            "marker": {
             "colorbar": {
              "outlinewidth": 0,
              "ticks": ""
             }
            },
            "type": "scattermapbox"
           }
          ],
          "scatterpolar": [
           {
            "marker": {
             "colorbar": {
              "outlinewidth": 0,
              "ticks": ""
             }
            },
            "type": "scatterpolar"
           }
          ],
          "scatterpolargl": [
           {
            "marker": {
             "colorbar": {
              "outlinewidth": 0,
              "ticks": ""
             }
            },
            "type": "scatterpolargl"
           }
          ],
          "scatterternary": [
           {
            "marker": {
             "colorbar": {
              "outlinewidth": 0,
              "ticks": ""
             }
            },
            "type": "scatterternary"
           }
          ],
          "surface": [
           {
            "colorbar": {
             "outlinewidth": 0,
             "ticks": ""
            },
            "colorscale": [
             [
              0,
              "#0d0887"
             ],
             [
              0.1111111111111111,
              "#46039f"
             ],
             [
              0.2222222222222222,
              "#7201a8"
             ],
             [
              0.3333333333333333,
              "#9c179e"
             ],
             [
              0.4444444444444444,
              "#bd3786"
             ],
             [
              0.5555555555555556,
              "#d8576b"
             ],
             [
              0.6666666666666666,
              "#ed7953"
             ],
             [
              0.7777777777777778,
              "#fb9f3a"
             ],
             [
              0.8888888888888888,
              "#fdca26"
             ],
             [
              1,
              "#f0f921"
             ]
            ],
            "type": "surface"
           }
          ],
          "table": [
           {
            "cells": {
             "fill": {
              "color": "#EBF0F8"
             },
             "line": {
              "color": "white"
             }
            },
            "header": {
             "fill": {
              "color": "#C8D4E3"
             },
             "line": {
              "color": "white"
             }
            },
            "type": "table"
           }
          ]
         },
         "layout": {
          "annotationdefaults": {
           "arrowcolor": "#2a3f5f",
           "arrowhead": 0,
           "arrowwidth": 1
          },
          "autotypenumbers": "strict",
          "coloraxis": {
           "colorbar": {
            "outlinewidth": 0,
            "ticks": ""
           }
          },
          "colorscale": {
           "diverging": [
            [
             0,
             "#8e0152"
            ],
            [
             0.1,
             "#c51b7d"
            ],
            [
             0.2,
             "#de77ae"
            ],
            [
             0.3,
             "#f1b6da"
            ],
            [
             0.4,
             "#fde0ef"
            ],
            [
             0.5,
             "#f7f7f7"
            ],
            [
             0.6,
             "#e6f5d0"
            ],
            [
             0.7,
             "#b8e186"
            ],
            [
             0.8,
             "#7fbc41"
            ],
            [
             0.9,
             "#4d9221"
            ],
            [
             1,
             "#276419"
            ]
           ],
           "sequential": [
            [
             0,
             "#0d0887"
            ],
            [
             0.1111111111111111,
             "#46039f"
            ],
            [
             0.2222222222222222,
             "#7201a8"
            ],
            [
             0.3333333333333333,
             "#9c179e"
            ],
            [
             0.4444444444444444,
             "#bd3786"
            ],
            [
             0.5555555555555556,
             "#d8576b"
            ],
            [
             0.6666666666666666,
             "#ed7953"
            ],
            [
             0.7777777777777778,
             "#fb9f3a"
            ],
            [
             0.8888888888888888,
             "#fdca26"
            ],
            [
             1,
             "#f0f921"
            ]
           ],
           "sequentialminus": [
            [
             0,
             "#0d0887"
            ],
            [
             0.1111111111111111,
             "#46039f"
            ],
            [
             0.2222222222222222,
             "#7201a8"
            ],
            [
             0.3333333333333333,
             "#9c179e"
            ],
            [
             0.4444444444444444,
             "#bd3786"
            ],
            [
             0.5555555555555556,
             "#d8576b"
            ],
            [
             0.6666666666666666,
             "#ed7953"
            ],
            [
             0.7777777777777778,
             "#fb9f3a"
            ],
            [
             0.8888888888888888,
             "#fdca26"
            ],
            [
             1,
             "#f0f921"
            ]
           ]
          },
          "colorway": [
           "#636efa",
           "#EF553B",
           "#00cc96",
           "#ab63fa",
           "#FFA15A",
           "#19d3f3",
           "#FF6692",
           "#B6E880",
           "#FF97FF",
           "#FECB52"
          ],
          "font": {
           "color": "#2a3f5f"
          },
          "geo": {
           "bgcolor": "white",
           "lakecolor": "white",
           "landcolor": "#E5ECF6",
           "showlakes": true,
           "showland": true,
           "subunitcolor": "white"
          },
          "hoverlabel": {
           "align": "left"
          },
          "hovermode": "closest",
          "mapbox": {
           "style": "light"
          },
          "paper_bgcolor": "white",
          "plot_bgcolor": "#E5ECF6",
          "polar": {
           "angularaxis": {
            "gridcolor": "white",
            "linecolor": "white",
            "ticks": ""
           },
           "bgcolor": "#E5ECF6",
           "radialaxis": {
            "gridcolor": "white",
            "linecolor": "white",
            "ticks": ""
           }
          },
          "scene": {
           "xaxis": {
            "backgroundcolor": "#E5ECF6",
            "gridcolor": "white",
            "gridwidth": 2,
            "linecolor": "white",
            "showbackground": true,
            "ticks": "",
            "zerolinecolor": "white"
           },
           "yaxis": {
            "backgroundcolor": "#E5ECF6",
            "gridcolor": "white",
            "gridwidth": 2,
            "linecolor": "white",
            "showbackground": true,
            "ticks": "",
            "zerolinecolor": "white"
           },
           "zaxis": {
            "backgroundcolor": "#E5ECF6",
            "gridcolor": "white",
            "gridwidth": 2,
            "linecolor": "white",
            "showbackground": true,
            "ticks": "",
            "zerolinecolor": "white"
           }
          },
          "shapedefaults": {
           "line": {
            "color": "#2a3f5f"
           }
          },
          "ternary": {
           "aaxis": {
            "gridcolor": "white",
            "linecolor": "white",
            "ticks": ""
           },
           "baxis": {
            "gridcolor": "white",
            "linecolor": "white",
            "ticks": ""
           },
           "bgcolor": "#E5ECF6",
           "caxis": {
            "gridcolor": "white",
            "linecolor": "white",
            "ticks": ""
           }
          },
          "title": {
           "x": 0.05
          },
          "xaxis": {
           "automargin": true,
           "gridcolor": "white",
           "linecolor": "white",
           "ticks": "",
           "title": {
            "standoff": 15
           },
           "zerolinecolor": "white",
           "zerolinewidth": 2
          },
          "yaxis": {
           "automargin": true,
           "gridcolor": "white",
           "linecolor": "white",
           "ticks": "",
           "title": {
            "standoff": 15
           },
           "zerolinecolor": "white",
           "zerolinewidth": 2
          }
         }
        },
        "title": {
         "font": {
          "color": "Black",
          "size": 24
         },
         "text": "Sankey Diagram with Pathways for Graduation",
         "x": 0.5
        }
       }
      },
      "image/png": "[encoded data removed]",
      "text/html": [
       "<div>                            <div id=\"cf5779bd-6913-4869-b104-0411cad20dc1\" class=\"plotly-graph-div\" style=\"height:525px; width:100%;\"></div>            <script type=\"text/javascript\">                require([\"plotly\"], function(Plotly) {                    window.PLOTLYENV=window.PLOTLYENV || {};                                    if (document.getElementById(\"cf5779bd-6913-4869-b104-0411cad20dc1\")) {                    Plotly.newPlot(                        \"cf5779bd-6913-4869-b104-0411cad20dc1\",                        [{\"link\":{\"source\":[7,7,7,5,5,5,1,1,1,6,6,6,3,3,3,2,2,2],\"target\":[6,3,2,6,3,2,6,3,2,8,4,0,8,4,0,8,4,0],\"value\":[164,144,63,1506,1633,883,12,9,10,483,310,889,551,267,968,387,217,352]},\"node\":{\"label\":[\"Graduate\",\"International\",\"Science and Engineering\",\"Humanities and Design\",\"Enrolled\",\"General\",\"Business\",\"Change of Institution\\u002fCourse\",\"Dropout\"]},\"type\":\"sankey\"}],                        {\"template\":{\"data\":{\"histogram2dcontour\":[{\"type\":\"histogram2dcontour\",\"colorbar\":{\"outlinewidth\":0,\"ticks\":\"\"},\"colorscale\":[[0.0,\"#0d0887\"],[0.1111111111111111,\"#46039f\"],[0.2222222222222222,\"#7201a8\"],[0.3333333333333333,\"#9c179e\"],[0.4444444444444444,\"#bd3786\"],[0.5555555555555556,\"#d8576b\"],[0.6666666666666666,\"#ed7953\"],[0.7777777777777778,\"#fb9f3a\"],[0.8888888888888888,\"#fdca26\"],[1.0,\"#f0f921\"]]}],\"choropleth\":[{\"type\":\"choropleth\",\"colorbar\":{\"outlinewidth\":0,\"ticks\":\"\"}}],\"histogram2d\":[{\"type\":\"histogram2d\",\"colorbar\":{\"outlinewidth\":0,\"ticks\":\"\"},\"colorscale\":[[0.0,\"#0d0887\"],[0.1111111111111111,\"#46039f\"],[0.2222222222222222,\"#7201a8\"],[0.3333333333333333,\"#9c179e\"],[0.4444444444444444,\"#bd3786\"],[0.5555555555555556,\"#d8576b\"],[0.6666666666666666,\"#ed7953\"],[0.7777777777777778,\"#fb9f3a\"],[0.8888888888888888,\"#fdca26\"],[1.0,\"#f0f921\"]]}],\"heatmap\":[{\"type\":\"heatmap\",\"colorbar\":{\"outlinewidth\":0,\"ticks\":\"\"},\"colorscale\":[[0.0,\"#0d0887\"],[0.1111111111111111,\"#46039f\"],[0.2222222222222222,\"#7201a8\"],[0.3333333333333333,\"#9c179e\"],[0.4444444444444444,\"#bd3786\"],[0.5555555555555556,\"#d8576b\"],[0.6666666666666666,\"#ed7953\"],[0.7777777777777778,\"#fb9f3a\"],[0.8888888888888888,\"#fdca26\"],[1.0,\"#f0f921\"]]}],\"heatmapgl\":[{\"type\":\"heatmapgl\",\"colorbar\":{\"outlinewidth\":0,\"ticks\":\"\"},\"colorscale\":[[0.0,\"#0d0887\"],[0.1111111111111111,\"#46039f\"],[0.2222222222222222,\"#7201a8\"],[0.3333333333333333,\"#9c179e\"],[0.4444444444444444,\"#bd3786\"],[0.5555555555555556,\"#d8576b\"],[0.6666666666666666,\"#ed7953\"],[0.7777777777777778,\"#fb9f3a\"],[0.8888888888888888,\"#fdca26\"],[1.0,\"#f0f921\"]]}],\"contourcarpet\":[{\"type\":\"contourcarpet\",\"colorbar\":{\"outlinewidth\":0,\"ticks\":\"\"}}],\"contour\":[{\"type\":\"contour\",\"colorbar\":{\"outlinewidth\":0,\"ticks\":\"\"},\"colorscale\":[[0.0,\"#0d0887\"],[0.1111111111111111,\"#46039f\"],[0.2222222222222222,\"#7201a8\"],[0.3333333333333333,\"#9c179e\"],[0.4444444444444444,\"#bd3786\"],[0.5555555555555556,\"#d8576b\"],[0.6666666666666666,\"#ed7953\"],[0.7777777777777778,\"#fb9f3a\"],[0.8888888888888888,\"#fdca26\"],[1.0,\"#f0f921\"]]}],\"surface\":[{\"type\":\"surface\",\"colorbar\":{\"outlinewidth\":0,\"ticks\":\"\"},\"colorscale\":[[0.0,\"#0d0887\"],[0.1111111111111111,\"#46039f\"],[0.2222222222222222,\"#7201a8\"],[0.3333333333333333,\"#9c179e\"],[0.4444444444444444,\"#bd3786\"],[0.5555555555555556,\"#d8576b\"],[0.6666666666666666,\"#ed7953\"],[0.7777777777777778,\"#fb9f3a\"],[0.8888888888888888,\"#fdca26\"],[1.0,\"#f0f921\"]]}],\"mesh3d\":[{\"type\":\"mesh3d\",\"colorbar\":{\"outlinewidth\":0,\"ticks\":\"\"}}],\"scatter\":[{\"fillpattern\":{\"fillmode\":\"overlay\",\"size\":10,\"solidity\":0.2},\"type\":\"scatter\"}],\"parcoords\":[{\"type\":\"parcoords\",\"line\":{\"colorbar\":{\"outlinewidth\":0,\"ticks\":\"\"}}}],\"scatterpolargl\":[{\"type\":\"scatterpolargl\",\"marker\":{\"colorbar\":{\"outlinewidth\":0,\"ticks\":\"\"}}}],\"bar\":[{\"error_x\":{\"color\":\"#2a3f5f\"},\"error_y\":{\"color\":\"#2a3f5f\"},\"marker\":{\"line\":{\"color\":\"#E5ECF6\",\"width\":0.5},\"pattern\":{\"fillmode\":\"overlay\",\"size\":10,\"solidity\":0.2}},\"type\":\"bar\"}],\"scattergeo\":[{\"type\":\"scattergeo\",\"marker\":{\"colorbar\":{\"outlinewidth\":0,\"ticks\":\"\"}}}],\"scatterpolar\":[{\"type\":\"scatterpolar\",\"marker\":{\"colorbar\":{\"outlinewidth\":0,\"ticks\":\"\"}}}],\"histogram\":[{\"marker\":{\"pattern\":{\"fillmode\":\"overlay\",\"size\":10,\"solidity\":0.2}},\"type\":\"histogram\"}],\"scattergl\":[{\"type\":\"scattergl\",\"marker\":{\"colorbar\":{\"outlinewidth\":0,\"ticks\":\"\"}}}],\"scatter3d\":[{\"type\":\"scatter3d\",\"line\":{\"colorbar\":{\"outlinewidth\":0,\"ticks\":\"\"}},\"marker\":{\"colorbar\":{\"outlinewidth\":0,\"ticks\":\"\"}}}],\"scattermapbox\":[{\"type\":\"scattermapbox\",\"marker\":{\"colorbar\":{\"outlinewidth\":0,\"ticks\":\"\"}}}],\"scatterternary\":[{\"type\":\"scatterternary\",\"marker\":{\"colorbar\":{\"outlinewidth\":0,\"ticks\":\"\"}}}],\"scattercarpet\":[{\"type\":\"scattercarpet\",\"marker\":{\"colorbar\":{\"outlinewidth\":0,\"ticks\":\"\"}}}],\"carpet\":[{\"aaxis\":{\"endlinecolor\":\"#2a3f5f\",\"gridcolor\":\"white\",\"linecolor\":\"white\",\"minorgridcolor\":\"white\",\"startlinecolor\":\"#2a3f5f\"},\"baxis\":{\"endlinecolor\":\"#2a3f5f\",\"gridcolor\":\"white\",\"linecolor\":\"white\",\"minorgridcolor\":\"white\",\"startlinecolor\":\"#2a3f5f\"},\"type\":\"carpet\"}],\"table\":[{\"cells\":{\"fill\":{\"color\":\"#EBF0F8\"},\"line\":{\"color\":\"white\"}},\"header\":{\"fill\":{\"color\":\"#C8D4E3\"},\"line\":{\"color\":\"white\"}},\"type\":\"table\"}],\"barpolar\":[{\"marker\":{\"line\":{\"color\":\"#E5ECF6\",\"width\":0.5},\"pattern\":{\"fillmode\":\"overlay\",\"size\":10,\"solidity\":0.2}},\"type\":\"barpolar\"}],\"pie\":[{\"automargin\":true,\"type\":\"pie\"}]},\"layout\":{\"autotypenumbers\":\"strict\",\"colorway\":[\"#636efa\",\"#EF553B\",\"#00cc96\",\"#ab63fa\",\"#FFA15A\",\"#19d3f3\",\"#FF6692\",\"#B6E880\",\"#FF97FF\",\"#FECB52\"],\"font\":{\"color\":\"#2a3f5f\"},\"hovermode\":\"closest\",\"hoverlabel\":{\"align\":\"left\"},\"paper_bgcolor\":\"white\",\"plot_bgcolor\":\"#E5ECF6\",\"polar\":{\"bgcolor\":\"#E5ECF6\",\"angularaxis\":{\"gridcolor\":\"white\",\"linecolor\":\"white\",\"ticks\":\"\"},\"radialaxis\":{\"gridcolor\":\"white\",\"linecolor\":\"white\",\"ticks\":\"\"}},\"ternary\":{\"bgcolor\":\"#E5ECF6\",\"aaxis\":{\"gridcolor\":\"white\",\"linecolor\":\"white\",\"ticks\":\"\"},\"baxis\":{\"gridcolor\":\"white\",\"linecolor\":\"white\",\"ticks\":\"\"},\"caxis\":{\"gridcolor\":\"white\",\"linecolor\":\"white\",\"ticks\":\"\"}},\"coloraxis\":{\"colorbar\":{\"outlinewidth\":0,\"ticks\":\"\"}},\"colorscale\":{\"sequential\":[[0.0,\"#0d0887\"],[0.1111111111111111,\"#46039f\"],[0.2222222222222222,\"#7201a8\"],[0.3333333333333333,\"#9c179e\"],[0.4444444444444444,\"#bd3786\"],[0.5555555555555556,\"#d8576b\"],[0.6666666666666666,\"#ed7953\"],[0.7777777777777778,\"#fb9f3a\"],[0.8888888888888888,\"#fdca26\"],[1.0,\"#f0f921\"]],\"sequentialminus\":[[0.0,\"#0d0887\"],[0.1111111111111111,\"#46039f\"],[0.2222222222222222,\"#7201a8\"],[0.3333333333333333,\"#9c179e\"],[0.4444444444444444,\"#bd3786\"],[0.5555555555555556,\"#d8576b\"],[0.6666666666666666,\"#ed7953\"],[0.7777777777777778,\"#fb9f3a\"],[0.8888888888888888,\"#fdca26\"],[1.0,\"#f0f921\"]],\"diverging\":[[0,\"#8e0152\"],[0.1,\"#c51b7d\"],[0.2,\"#de77ae\"],[0.3,\"#f1b6da\"],[0.4,\"#fde0ef\"],[0.5,\"#f7f7f7\"],[0.6,\"#e6f5d0\"],[0.7,\"#b8e186\"],[0.8,\"#7fbc41\"],[0.9,\"#4d9221\"],[1,\"#276419\"]]},\"xaxis\":{\"gridcolor\":\"white\",\"linecolor\":\"white\",\"ticks\":\"\",\"title\":{\"standoff\":15},\"zerolinecolor\":\"white\",\"automargin\":true,\"zerolinewidth\":2},\"yaxis\":{\"gridcolor\":\"white\",\"linecolor\":\"white\",\"ticks\":\"\",\"title\":{\"standoff\":15},\"zerolinecolor\":\"white\",\"automargin\":true,\"zerolinewidth\":2},\"scene\":{\"xaxis\":{\"backgroundcolor\":\"#E5ECF6\",\"gridcolor\":\"white\",\"linecolor\":\"white\",\"showbackground\":true,\"ticks\":\"\",\"zerolinecolor\":\"white\",\"gridwidth\":2},\"yaxis\":{\"backgroundcolor\":\"#E5ECF6\",\"gridcolor\":\"white\",\"linecolor\":\"white\",\"showbackground\":true,\"ticks\":\"\",\"zerolinecolor\":\"white\",\"gridwidth\":2},\"zaxis\":{\"backgroundcolor\":\"#E5ECF6\",\"gridcolor\":\"white\",\"linecolor\":\"white\",\"showbackground\":true,\"ticks\":\"\",\"zerolinecolor\":\"white\",\"gridwidth\":2}},\"shapedefaults\":{\"line\":{\"color\":\"#2a3f5f\"}},\"annotationdefaults\":{\"arrowcolor\":\"#2a3f5f\",\"arrowhead\":0,\"arrowwidth\":1},\"geo\":{\"bgcolor\":\"white\",\"landcolor\":\"#E5ECF6\",\"subunitcolor\":\"white\",\"showland\":true,\"showlakes\":true,\"lakecolor\":\"white\"},\"title\":{\"x\":0.05},\"mapbox\":{\"style\":\"light\"}}},\"title\":{\"font\":{\"size\":24,\"color\":\"Black\"},\"text\":\"Sankey Diagram with Pathways for Graduation\",\"x\":0.5},\"font\":{\"size\":12},\"legend\":{\"font\":{\"size\":14},\"title\":{\"text\":\"Legend\"},\"orientation\":\"h\",\"x\":0.5,\"xanchor\":\"center\"},\"hovermode\":\"x\"},                        {\"responsive\": true}                    ).then(function(){\n",
       "                            \n",
       "var gd = document.getElementById('cf5779bd-6913-4869-b104-0411cad20dc1');\n",
       "var x = new MutationObserver(function (mutations, observer) {{\n",
       "        var display = window.getComputedStyle(gd).display;\n",
       "        if (!display || display === 'none') {{\n",
       "            console.log([gd, 'removed!']);\n",
       "            Plotly.purge(gd);\n",
       "            observer.disconnect();\n",
       "        }}\n",
       "}});\n",
       "\n",
       "// Listen for the removal of the full notebook cells\n",
       "var notebookContainer = gd.closest('#notebook-container');\n",
       "if (notebookContainer) {{\n",
       "    x.observe(notebookContainer, {childList: true});\n",
       "}}\n",
       "\n",
       "// Listen for the clearing of the current output cell\n",
       "var outputEl = gd.closest('.output');\n",
       "if (outputEl) {{\n",
       "    x.observe(outputEl, {childList: true});\n",
       "}}\n",
       "\n",
       "                        })                };                });            </script>        </div>"
      ]
     },
     "metadata": {},
     "output_type": "display_data"
    }
   ],
   "source": [
    "# Implementation\n",
    "\n",
    "\n",
    "application_modes = df['application_mode'].unique()\n",
    "courses = df['course'].unique()\n",
    "\n",
    "outputs = df['output'].unique()\n",
    "\n",
    "\n",
    "\n",
    "\n",
    "lst_of_cols = ['application_mode', 'course', 'output']\n",
    "\n",
    "# Creating base figure with all data\n",
    "    \n",
    "checkbox_group1 = pn.widgets.CheckBoxGroup(\n",
    "    name='Mode Checkbox Group', value=list(application_modes), options=list(application_modes),\n",
    "    inline=False)\n",
    "\n",
    "checkbox_group2 = pn.widgets.CheckBoxGroup(\n",
    "    name='Course Checkbox Group', value=list(courses), options=list(courses),\n",
    "    inline=False)\n",
    "\n",
    "checkbox_group3 = pn.widgets.CheckBoxGroup(\n",
    "    name='Output Checkbox Group', value=list(outputs), options=list(outputs),\n",
    "    inline=False)\n",
    "\n",
    "# ensuring that at least one value is selected\n",
    "def enforce_selection(event, checkbox_group):\n",
    "    if not event.new:\n",
    "        checkbox_group.value = [event.old[0]]  # Restore the first previously selected value\n",
    "\n",
    "checkbox_group1.param.watch(lambda event: enforce_selection(event, checkbox_group1), 'value')\n",
    "checkbox_group2.param.watch(lambda event: enforce_selection(event, checkbox_group2), 'value')\n",
    "checkbox_group3.param.watch(lambda event: enforce_selection(event, checkbox_group3), 'value')\n",
    "\n",
    "\n",
    "plot = pn.bind(create_sankey,df,checkbox_group1,checkbox_group2,checkbox_group3,lst_of_cols)\n",
    "card_width = 320\n",
    "\n",
    "checkbox_layout = pn.Row(\n",
    "    pn.Card(\n",
    "        pn.Column(\n",
    "            checkbox_group1\n",
    "        ),\n",
    "        title=\"Choose Mode\", width=300, collapsed=False\n",
    "    ),\n",
    "    pn.Card(\n",
    "        pn.Column(\n",
    "            checkbox_group2\n",
    "        ),\n",
    "        title=\"Choose Course\", width=300, collapsed=False\n",
    "    ),\n",
    "    pn.Card(\n",
    "        pn.Column(\n",
    "            checkbox_group3\n",
    "        ),\n",
    "        title=\"Choose Output\", width=300, collapsed=False\n",
    "    ),\n",
    ")\n",
    "\n",
    "# main layout \n",
    "layout = pn.template.FastListTemplate(\n",
    "    title=\"Graduation Pathways\",\n",
    "    theme_toggle=False,\n",
    "    main=[\n",
    "        pn.Tabs(\n",
    "            (\"Dashboard\", pn.Column(checkbox_layout,plot)),\n",
    "            active=0  \n",
    "        )\n",
    "    ],\n",
    "    header_background='#a93226'\n",
    ").servable()\n",
    "\n",
    "layout.save(\"sankey.html\")"
   ]
  },
  {
   "cell_type": "code",
   "execution_count": null,
   "id": "93219708-fc47-486e-922a-cee5aa7294ea",
   "metadata": {},
   "outputs": [],
   "source": []
  }
 ],
 "metadata": {
  "kernelspec": {
   "display_name": "Python 3 (ipykernel)",
   "language": "python",
   "name": "python3"
  },
  "language_info": {
   "codemirror_mode": {
    "name": "ipython",
    "version": 3
   },
   "file_extension": ".py",
   "mimetype": "text/x-python",
   "name": "python",
   "nbconvert_exporter": "python",
   "pygments_lexer": "ipython3",
   "version": "3.11.9"
  }
 },
 "nbformat": 4,
 "nbformat_minor": 5
}
